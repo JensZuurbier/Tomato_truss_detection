{
 "cells": [
  {
   "cell_type": "code",
   "execution_count": 5,
   "id": "6ed08623",
   "metadata": {},
   "outputs": [],
   "source": [
    "import os\n",
    "from PIL import Image\n",
    "from pillow_heif import register_heif_opener\n",
    "import cv2"
   ]
  },
  {
   "cell_type": "markdown",
   "id": "ea6a8d30",
   "metadata": {},
   "source": [
    "### Rename images"
   ]
  },
  {
   "cell_type": "code",
   "execution_count": 19,
   "id": "1437de63-87d5-4c01-bb14-8da7458c30e4",
   "metadata": {},
   "outputs": [],
   "source": [
    "### Rename images to names with numbers only\n",
    "images = os.listdir('dataset_blue/images_png')\n",
    "\n",
    "for idx, image in enumerate(images):\n",
    "    src = ('dataset_blue/images_png/' + image)\n",
    "    dst = ('dataset_blue/images/blue_' + str(idx) + '.png')\n",
    "    os.rename(src, dst)"
   ]
  },
  {
   "cell_type": "markdown",
   "id": "511cf4ca-b716-4217-9d7c-86e3b56b25c5",
   "metadata": {},
   "source": [
    "### Convert to png\n"
   ]
  },
  {
   "cell_type": "code",
   "execution_count": 9,
   "id": "adaeae08-9eff-4039-b912-cc5252b21768",
   "metadata": {},
   "outputs": [],
   "source": [
    "path = os.getcwd()\n",
    "images_source = os.path.join(path,'dataset_grey/images_heic/')\n",
    "images_dest = os.path.join(path,'dataset_grey/images_png/')"
   ]
  },
  {
   "cell_type": "markdown",
   "id": "b51fd7f3",
   "metadata": {},
   "source": [
    "#### HEIC > PNG (and resize)"
   ]
  },
  {
   "cell_type": "code",
   "execution_count": 12,
   "id": "98b66405",
   "metadata": {},
   "outputs": [],
   "source": [
    "images = os.listdir('dataset_grey/images_heic')\n",
    "\n",
    "register_heif_opener()\n",
    "\n",
    "for idx, image in enumerate(images):\n",
    "\n",
    "    im1 = Image.open(images_source + image)\n",
    "    basewidth = 1536\n",
    "    wpercent = (basewidth/float(im1.size[0]))\n",
    "    hsize = int((float(im1.size[1])*float(wpercent)))\n",
    "    im1 = im1.resize((basewidth,hsize), Image.ANTIALIAS)\n",
    "    im1.save(images_dest + 'grey_' + str(idx) + '.png')"
   ]
  },
  {
   "cell_type": "markdown",
   "id": "247a1676",
   "metadata": {},
   "source": [
    "#### JPG > PNG"
   ]
  },
  {
   "cell_type": "code",
   "execution_count": 2,
   "id": "9e2119e1-0ba6-436e-9d3b-40fb22b122df",
   "metadata": {},
   "outputs": [],
   "source": [
    "images = os.listdir('dataset_blue/images_jpg')\n",
    "\n",
    "for idx, image in enumerate(images):\n",
    "\n",
    "    im1 = Image.open(images_source + image)\n",
    "    im1.save(images_dest + 'blue_' + str(idx) + '.png')"
   ]
  },
  {
   "cell_type": "markdown",
   "id": "9e580c2e",
   "metadata": {},
   "source": [
    "## Resize imgs"
   ]
  },
  {
   "cell_type": "code",
   "execution_count": 3,
   "id": "d01d4e5e",
   "metadata": {},
   "outputs": [],
   "source": [
    "path = os.getcwd()\n",
    "images_source = os.path.join(path,'dataset_other/images_png/')\n",
    "images_dest = os.path.join(path,'dataset_other/images/')"
   ]
  },
  {
   "cell_type": "code",
   "execution_count": 8,
   "id": "0a4990a0",
   "metadata": {},
   "outputs": [],
   "source": [
    "images = os.listdir('dataset_other/images_png')\n",
    "\n",
    "desired_size = 510\n",
    "\n",
    "for idx, image in enumerate(images):\n",
    "\n",
    "    im = Image.open(images_source + image)\n",
    "    old_size = im.size  # old_size[0] is in (width, height) format\n",
    "    ratio = float(desired_size)/max(old_size)\n",
    "    new_size = tuple([int(x*ratio) for x in old_size])\n",
    "\n",
    "    im = im.resize(new_size, Image.ANTIALIAS)\n",
    "    # create a new image and paste the resized on it\n",
    "\n",
    "    new_im = Image.new(\"RGB\", (desired_size, desired_size))\n",
    "    new_im.paste(im, ((desired_size-new_size[0])//2,\n",
    "                        (desired_size-new_size[1])//2))\n",
    "    new_im.save(images_dest + 'image_' + str(idx) + '.png')"
   ]
  }
 ],
 "metadata": {
  "kernelspec": {
   "display_name": "Python 3 (ipykernel)",
   "language": "python",
   "name": "python3"
  },
  "language_info": {
   "codemirror_mode": {
    "name": "ipython",
    "version": 3
   },
   "file_extension": ".py",
   "mimetype": "text/x-python",
   "name": "python",
   "nbconvert_exporter": "python",
   "pygments_lexer": "ipython3",
   "version": "3.9.12"
  }
 },
 "nbformat": 4,
 "nbformat_minor": 5
}
